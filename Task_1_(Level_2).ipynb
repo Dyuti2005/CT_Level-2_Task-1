{
  "nbformat": 4,
  "nbformat_minor": 0,
  "metadata": {
    "colab": {
      "provenance": []
    },
    "kernelspec": {
      "name": "python3",
      "display_name": "Python 3"
    },
    "language_info": {
      "name": "python"
    }
  },
  "cells": [
    {
      "cell_type": "code",
      "execution_count": 10,
      "metadata": {
        "colab": {
          "base_uri": "https://localhost:8080/"
        },
        "id": "JuqSJJLhGi1l",
        "outputId": "cb9c91f8-a36a-43be-cac6-b8a6fcf8405b"
      },
      "outputs": [
        {
          "output_type": "stream",
          "name": "stdout",
          "text": [
            "                   Cuisine  Count  Percentage of Restaurants\n",
            "Cuisine_List                                                \n",
            "North Indian  North Indian   3960                      41.46\n",
            "Chinese            Chinese   2735                      28.64\n",
            "Fast Food        Fast Food   1986                      20.79\n"
          ]
        }
      ],
      "source": [
        "import pandas as pd\n",
        "\n",
        "# STEP 1: Load the dataset\n",
        "df = pd.read_excel('Dataset .xlsx')\n",
        "\n",
        "# STEP 2: Handle missing values in the 'Cuisines' column\n",
        "df['Cuisines'] = df['Cuisines'].fillna('')\n",
        "\n",
        "# STEP 3: Split multiple cuisines into a list\n",
        "df['Cuisine_List'] = df['Cuisines'].str.split(', ')\n",
        "\n",
        "# STEP 4: Explode the list so each cuisine gets its own row\n",
        "exploded_df = df.explode('Cuisine_List')\n",
        "\n",
        "# STEP 5: Count how many times each cuisine appears\n",
        "cuisine_counts = exploded_df['Cuisine_List'].value_counts()\n",
        "\n",
        "# STEP 6: Get the top 3 most common cuisines\n",
        "top_3_cuisines = cuisine_counts.head(3)\n",
        "\n",
        "# STEP 7: Calculate percentage of restaurants that serve each top cuisine\n",
        "# Note: We divide by total number of restaurants (not total cuisine entries)\n",
        "total_restaurants = df.shape[0]\n",
        "top_3_percentages = (top_3_cuisines / total_restaurants) * 100\n",
        "\n",
        "# STEP 8: Combine results into a final DataFrame\n",
        "result_df = pd.DataFrame({\n",
        "    'Cuisine': top_3_cuisines.index,\n",
        "    'Count': top_3_cuisines.values,\n",
        "    'Percentage of Restaurants': top_3_percentages.round(2)\n",
        "})\n",
        "\n",
        "# STEP 9: Display the result\n",
        "print(result_df)\n",
        "\n"
      ]
    }
  ]
}